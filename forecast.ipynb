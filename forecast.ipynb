{
 "cells": [
  {
   "cell_type": "markdown",
   "metadata": {},
   "source": [
    "# Time Series Forecasting using Auto-Arima\n",
    "ARIMA(Autoregressive integrated moving average) is a statistical analysis model that uses time series data to predict future values based on the fact that past values have sufficient information.\n",
    "\n",
    "Auto-arima applies automated configuration tasks to the ARIMA model to search multiple combinations of p,d,q parameters and chooses the best model that has the least AIC."
   ]
  },
  {
   "cell_type": "code",
   "execution_count": 3,
   "metadata": {},
   "outputs": [],
   "source": [
    "#Import the necessary libraries\n",
    "import pandas as pd\n",
    "import numpy as np\n",
    "import matplotlib.pyplot as plt\n",
    "import warnings\n",
    "warnings.simplefilter(\"ignore\")\n",
    "from sktime.forecasting.arima import AutoARIMA\n",
    "import pmdarima as pm\n",
    "from sktime.utils.plotting import plot_series"
   ]
  },
  {
   "cell_type": "code",
   "execution_count": 4,
   "metadata": {},
   "outputs": [],
   "source": [
    "#Read in the data\n",
    "bikes_df = pd.read_excel(\"bikes.xlsx\")\n",
    "bikeshops_df = pd.read_excel(\"bikeshops.xlsx\")\n",
    "orderlines_df = pd.read_excel(io =\"orderlines.xlsx\",converters={'order.date':str})"
   ]
  },
  {
   "cell_type": "code",
   "execution_count": 7,
   "metadata": {},
   "outputs": [
    {
     "data": {
      "text/html": [
       "<div>\n",
       "<style scoped>\n",
       "    .dataframe tbody tr th:only-of-type {\n",
       "        vertical-align: middle;\n",
       "    }\n",
       "\n",
       "    .dataframe tbody tr th {\n",
       "        vertical-align: top;\n",
       "    }\n",
       "\n",
       "    .dataframe thead th {\n",
       "        text-align: right;\n",
       "    }\n",
       "</style>\n",
       "<table border=\"1\" class=\"dataframe\">\n",
       "  <thead>\n",
       "    <tr style=\"text-align: right;\">\n",
       "      <th></th>\n",
       "      <th>order.id</th>\n",
       "      <th>order.line</th>\n",
       "      <th>order.date</th>\n",
       "      <th>customer.id</th>\n",
       "      <th>product.id</th>\n",
       "      <th>quantity</th>\n",
       "      <th>bike.id</th>\n",
       "      <th>model</th>\n",
       "      <th>description</th>\n",
       "      <th>price</th>\n",
       "      <th>bikeshop.id</th>\n",
       "      <th>bikeshop.name</th>\n",
       "      <th>location</th>\n",
       "    </tr>\n",
       "  </thead>\n",
       "  <tbody>\n",
       "    <tr>\n",
       "      <th>0</th>\n",
       "      <td>1</td>\n",
       "      <td>1</td>\n",
       "      <td>2011-01-07 00:00:00</td>\n",
       "      <td>2</td>\n",
       "      <td>48</td>\n",
       "      <td>1</td>\n",
       "      <td>48</td>\n",
       "      <td>Jekyll Carbon 2</td>\n",
       "      <td>Mountain - Over Mountain - Carbon</td>\n",
       "      <td>6070</td>\n",
       "      <td>2</td>\n",
       "      <td>Ithaca Mountain Climbers</td>\n",
       "      <td>Ithaca, NY</td>\n",
       "    </tr>\n",
       "    <tr>\n",
       "      <th>1</th>\n",
       "      <td>1</td>\n",
       "      <td>2</td>\n",
       "      <td>2011-01-07 00:00:00</td>\n",
       "      <td>2</td>\n",
       "      <td>52</td>\n",
       "      <td>1</td>\n",
       "      <td>52</td>\n",
       "      <td>Trigger Carbon 2</td>\n",
       "      <td>Mountain - Over Mountain - Carbon</td>\n",
       "      <td>5970</td>\n",
       "      <td>2</td>\n",
       "      <td>Ithaca Mountain Climbers</td>\n",
       "      <td>Ithaca, NY</td>\n",
       "    </tr>\n",
       "    <tr>\n",
       "      <th>2</th>\n",
       "      <td>2</td>\n",
       "      <td>1</td>\n",
       "      <td>2011-01-10 00:00:00</td>\n",
       "      <td>10</td>\n",
       "      <td>76</td>\n",
       "      <td>1</td>\n",
       "      <td>76</td>\n",
       "      <td>Beast of the East 1</td>\n",
       "      <td>Mountain - Trail - Aluminum</td>\n",
       "      <td>2770</td>\n",
       "      <td>10</td>\n",
       "      <td>Kansas City 29ers</td>\n",
       "      <td>Kansas City, KS</td>\n",
       "    </tr>\n",
       "    <tr>\n",
       "      <th>3</th>\n",
       "      <td>2</td>\n",
       "      <td>2</td>\n",
       "      <td>2011-01-10 00:00:00</td>\n",
       "      <td>10</td>\n",
       "      <td>52</td>\n",
       "      <td>1</td>\n",
       "      <td>52</td>\n",
       "      <td>Trigger Carbon 2</td>\n",
       "      <td>Mountain - Over Mountain - Carbon</td>\n",
       "      <td>5970</td>\n",
       "      <td>10</td>\n",
       "      <td>Kansas City 29ers</td>\n",
       "      <td>Kansas City, KS</td>\n",
       "    </tr>\n",
       "    <tr>\n",
       "      <th>4</th>\n",
       "      <td>3</td>\n",
       "      <td>1</td>\n",
       "      <td>2011-01-10 00:00:00</td>\n",
       "      <td>6</td>\n",
       "      <td>2</td>\n",
       "      <td>1</td>\n",
       "      <td>2</td>\n",
       "      <td>Supersix Evo Hi-Mod Team</td>\n",
       "      <td>Road - Elite Road - Carbon</td>\n",
       "      <td>10660</td>\n",
       "      <td>6</td>\n",
       "      <td>Louisville Race Equipment</td>\n",
       "      <td>Louisville, KY</td>\n",
       "    </tr>\n",
       "  </tbody>\n",
       "</table>\n",
       "</div>"
      ],
      "text/plain": [
       "   order.id  order.line           order.date  customer.id  product.id  \\\n",
       "0         1           1  2011-01-07 00:00:00            2          48   \n",
       "1         1           2  2011-01-07 00:00:00            2          52   \n",
       "2         2           1  2011-01-10 00:00:00           10          76   \n",
       "3         2           2  2011-01-10 00:00:00           10          52   \n",
       "4         3           1  2011-01-10 00:00:00            6           2   \n",
       "\n",
       "   quantity  bike.id                     model  \\\n",
       "0         1       48           Jekyll Carbon 2   \n",
       "1         1       52          Trigger Carbon 2   \n",
       "2         1       76       Beast of the East 1   \n",
       "3         1       52          Trigger Carbon 2   \n",
       "4         1        2  Supersix Evo Hi-Mod Team   \n",
       "\n",
       "                         description  price  bikeshop.id  \\\n",
       "0  Mountain - Over Mountain - Carbon   6070            2   \n",
       "1  Mountain - Over Mountain - Carbon   5970            2   \n",
       "2        Mountain - Trail - Aluminum   2770           10   \n",
       "3  Mountain - Over Mountain - Carbon   5970           10   \n",
       "4         Road - Elite Road - Carbon  10660            6   \n",
       "\n",
       "               bikeshop.name         location  \n",
       "0   Ithaca Mountain Climbers       Ithaca, NY  \n",
       "1   Ithaca Mountain Climbers       Ithaca, NY  \n",
       "2          Kansas City 29ers  Kansas City, KS  \n",
       "3          Kansas City 29ers  Kansas City, KS  \n",
       "4  Louisville Race Equipment   Louisville, KY  "
      ]
     },
     "execution_count": 7,
     "metadata": {},
     "output_type": "execute_result"
    }
   ],
   "source": [
    "#Join the necessary columns\n",
    "joined_df = orderlines_df\\\n",
    ".drop(columns = \"Unnamed: 0\",axis=0)\\\n",
    ".merge(\n",
    "    right = bikes_df,\n",
    "    how = 'left',\n",
    "    left_on = 'product.id',\n",
    "    right_on = 'bike.id'\n",
    ")\\\n",
    ".merge(\n",
    "    right = bikeshops_df,\n",
    "    how = 'left',\n",
    "    left_on = 'customer.id',\n",
    "    right_on = 'bikeshop.id'\n",
    ")\n",
    "\n",
    "joined_df.head()"
   ]
  },
  {
   "cell_type": "code",
   "execution_count": 8,
   "metadata": {},
   "outputs": [
    {
     "name": "stdout",
     "output_type": "stream",
     "text": [
      "<class 'pandas.core.frame.DataFrame'>\n",
      "Int64Index: 15644 entries, 0 to 15643\n",
      "Data columns (total 13 columns):\n",
      " #   Column         Non-Null Count  Dtype \n",
      "---  ------         --------------  ----- \n",
      " 0   order.id       15644 non-null  int64 \n",
      " 1   order.line     15644 non-null  int64 \n",
      " 2   order.date     15644 non-null  object\n",
      " 3   customer.id    15644 non-null  int64 \n",
      " 4   product.id     15644 non-null  int64 \n",
      " 5   quantity       15644 non-null  int64 \n",
      " 6   bike.id        15644 non-null  int64 \n",
      " 7   model          15644 non-null  object\n",
      " 8   description    15644 non-null  object\n",
      " 9   price          15644 non-null  int64 \n",
      " 10  bikeshop.id    15644 non-null  int64 \n",
      " 11  bikeshop.name  15644 non-null  object\n",
      " 12  location       15644 non-null  object\n",
      "dtypes: int64(8), object(5)\n",
      "memory usage: 1.7+ MB\n"
     ]
    }
   ],
   "source": [
    "joined_df.info()"
   ]
  },
  {
   "cell_type": "code",
   "execution_count": 9,
   "metadata": {},
   "outputs": [
    {
     "name": "stdout",
     "output_type": "stream",
     "text": [
      "<class 'pandas.core.frame.DataFrame'>\n",
      "Int64Index: 15644 entries, 0 to 15643\n",
      "Data columns (total 13 columns):\n",
      " #   Column          Non-Null Count  Dtype         \n",
      "---  ------          --------------  -----         \n",
      " 0   order_id        15644 non-null  int64         \n",
      " 1   order_line      15644 non-null  int64         \n",
      " 2   order_date      15644 non-null  datetime64[ns]\n",
      " 3   quantity        15644 non-null  int64         \n",
      " 4   price           15644 non-null  int64         \n",
      " 5   total_price     15644 non-null  int64         \n",
      " 6   model           15644 non-null  object        \n",
      " 7   category_1      15644 non-null  object        \n",
      " 8   category_2      15644 non-null  object        \n",
      " 9   frame_material  15644 non-null  object        \n",
      " 10  bikeshop_name   15644 non-null  object        \n",
      " 11  city            15644 non-null  object        \n",
      " 12  state           15644 non-null  object        \n",
      "dtypes: datetime64[ns](1), int64(5), object(7)\n",
      "memory usage: 1.7+ MB\n"
     ]
    }
   ],
   "source": [
    "#Clean the data    \n",
    "df = joined_df\n",
    "df['order.date'] = pd.to_datetime(df['order.date'])\n",
    "    \n",
    "temp_df = df['description'].str.split(\" - \", expand = True)\n",
    "df[\"category.1\"] = temp_df[0]\n",
    "df[\"category.2\"] = temp_df[1]\n",
    "df[\"frame.material\"] = temp_df[2]\n",
    "    \n",
    "temp_df2 = df['location'].str.split(\", \", expand = True)\n",
    "df['city'] = temp_df[0]\n",
    "df[\"state\"] = temp_df[1]\n",
    "    \n",
    "df['total.price'] = df['quantity'] * df['price']\n",
    "    \n",
    "df.columns\n",
    "    \n",
    "cols_to_keep_list = [\n",
    "    \"order.id\",\n",
    "    'order.line',\n",
    "    'order.date',  \n",
    "    'quantity',\n",
    "    'price',\n",
    "    'total.price',\n",
    "    'model',\n",
    "    'category.1',\n",
    "    'category.2',\n",
    "    'frame.material',\n",
    "    'bikeshop.name',\n",
    "    'city',\n",
    "    'state'\n",
    "]\n",
    "    \n",
    "df = df[cols_to_keep_list]\n",
    "    \n",
    "df.columns = df.columns.str.replace(\".\",\"_\",regex = False)\n",
    "    \n",
    "df.info()"
   ]
  },
  {
   "cell_type": "code",
   "execution_count": 10,
   "metadata": {},
   "outputs": [
    {
     "data": {
      "text/plain": [
       "(60, 1)"
      ]
     },
     "execution_count": 10,
     "metadata": {},
     "output_type": "execute_result"
    }
   ],
   "source": [
    "# Format the data for forecasting\n",
    "bike_sales_m_df = df[['order_date', 'total_price']] \\\n",
    "    .set_index(\"order_date\") \\\n",
    "    .resample(\"M\", kind = \"period\") \\\n",
    "    .sum()\n",
    "\n",
    "bike_sales_m_df.shape"
   ]
  },
  {
   "cell_type": "code",
   "execution_count": 11,
   "metadata": {},
   "outputs": [],
   "source": [
    "y = bike_sales_m_df['total_price']"
   ]
  },
  {
   "cell_type": "code",
   "execution_count": 12,
   "metadata": {},
   "outputs": [
    {
     "name": "stdout",
     "output_type": "stream",
     "text": [
      "Performing stepwise search to minimize aic\n",
      " ARIMA(2,0,2)(0,0,0)[0]             : AIC=1738.150, Time=0.10 sec\n",
      " ARIMA(0,0,0)(0,0,0)[0]             : AIC=1860.164, Time=0.00 sec\n",
      " ARIMA(1,0,0)(0,0,0)[0]             : AIC=1741.969, Time=0.01 sec\n",
      " ARIMA(0,0,1)(0,0,0)[0]             : AIC=1828.251, Time=0.01 sec\n",
      " ARIMA(1,0,2)(0,0,0)[0]             : AIC=1740.278, Time=0.02 sec\n",
      " ARIMA(2,0,1)(0,0,0)[0]             : AIC=1737.779, Time=0.03 sec\n",
      " ARIMA(1,0,1)(0,0,0)[0]             : AIC=1741.106, Time=0.02 sec\n",
      " ARIMA(2,0,0)(0,0,0)[0]             : AIC=1739.408, Time=0.01 sec\n",
      " ARIMA(3,0,1)(0,0,0)[0]             : AIC=1738.765, Time=0.03 sec\n",
      " ARIMA(3,0,0)(0,0,0)[0]             : AIC=1737.929, Time=0.02 sec\n",
      " ARIMA(3,0,2)(0,0,0)[0]             : AIC=inf, Time=0.11 sec\n",
      " ARIMA(2,0,1)(0,0,0)[0] intercept   : AIC=1730.103, Time=0.04 sec\n",
      " ARIMA(1,0,1)(0,0,0)[0] intercept   : AIC=1732.201, Time=0.02 sec\n",
      " ARIMA(2,0,0)(0,0,0)[0] intercept   : AIC=1731.007, Time=0.01 sec\n",
      " ARIMA(3,0,1)(0,0,0)[0] intercept   : AIC=1722.410, Time=0.04 sec\n",
      " ARIMA(3,0,0)(0,0,0)[0] intercept   : AIC=1720.481, Time=0.03 sec\n",
      " ARIMA(4,0,0)(0,0,0)[0] intercept   : AIC=1722.424, Time=0.03 sec\n",
      " ARIMA(4,0,1)(0,0,0)[0] intercept   : AIC=1724.391, Time=0.05 sec\n",
      "\n",
      "Best model:  ARIMA(3,0,0)(0,0,0)[0] intercept\n",
      "Total fit time: 0.650 seconds\n"
     ]
    },
    {
     "data": {
      "text/plain": [
       "ARIMA(order=(3, 0, 0), scoring_args={}, suppress_warnings=True)"
      ]
     },
     "execution_count": 12,
     "metadata": {},
     "output_type": "execute_result"
    }
   ],
   "source": [
    "#Use auto arima to determine pdq\n",
    "autoModel = pm.auto_arima(y, trace=True,\n",
    "                          error_action='ignore', suppress_warnings=True, seasonal=False)\n",
    "autoModel.fit(y)"
   ]
  },
  {
   "cell_type": "code",
   "execution_count": 13,
   "metadata": {},
   "outputs": [
    {
     "data": {
      "text/plain": [
       "AutoARIMA(sp=12, suppress_warnings=True)"
      ]
     },
     "execution_count": 13,
     "metadata": {},
     "output_type": "execute_result"
    }
   ],
   "source": [
    "forecaster = AutoARIMA(sp=12, suppress_warnings=True)\n",
    "\n",
    "forecaster.fit(y)"
   ]
  },
  {
   "cell_type": "code",
   "execution_count": 14,
   "metadata": {},
   "outputs": [
    {
     "data": {
      "text/plain": [
       "(<Figure size 1152x288 with 1 Axes>, <AxesSubplot:ylabel='total_price'>)"
      ]
     },
     "execution_count": 14,
     "metadata": {},
     "output_type": "execute_result"
    },
    {
     "data": {
      "image/png": "[encoded data removed]",
      "text/plain": [
       "<Figure size 1152x288 with 1 Axes>"
      ]
     },
     "metadata": {
      "needs_background": "light"
     },
     "output_type": "display_data"
    }
   ],
   "source": [
    "# Plot the forecast\n",
    "y_pred = forecaster.predict(fh=np.arange(1,12))\n",
    "plot_series(y,y_pred, labels=[\"y\",\"y_pred\"])"
   ]
  }
 ],
 "metadata": {
  "kernelspec": {
   "display_name": "Python 3.8.8 ('base')",
   "language": "python",
   "name": "python3"
  },
  "language_info": {
   "codemirror_mode": {
    "name": "ipython",
    "version": 3
   },
   "file_extension": ".py",
   "mimetype": "text/x-python",
   "name": "python",
   "nbconvert_exporter": "python",
   "pygments_lexer": "ipython3",
   "version": "3.8.8"
  },
  "orig_nbformat": 4,
  "vscode": {
   "interpreter": {
    "hash": "2eb60b4fa8f4c57a83b93d6e98645dd718d27f2459f19b6699bf015e4006c9fd"
   }
  }
 },
 "nbformat": 4,
 "nbformat_minor": 2
}
